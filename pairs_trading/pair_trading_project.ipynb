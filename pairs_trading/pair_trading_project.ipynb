{
 "cells": [
  {
   "cell_type": "code",
   "execution_count": 3,
   "id": "23bf9fef-0709-4db0-86b1-577428129895",
   "metadata": {},
   "outputs": [],
   "source": [
    "#pip install refinitiv.data"
   ]
  },
  {
   "cell_type": "code",
   "execution_count": 42,
   "id": "8b637537",
   "metadata": {},
   "outputs": [],
   "source": [
    "import pandas as pd\n",
    "import refinitiv.data as rd\n",
    "import seaborn as sns\n",
    "import matplotlib.pyplot as plt"
   ]
  },
  {
   "cell_type": "code",
   "execution_count": 44,
   "id": "bcecdef4",
   "metadata": {},
   "outputs": [],
   "source": [
    "company_list = ['GM' , 'TM', 'F','RIVN.O','HMC','NVDA.O', 'AMD.O','TSM','AAPL.O','NFLX.O','SPY']"
   ]
  },
  {
   "cell_type": "code",
   "execution_count": 52,
   "id": "efa50394",
   "metadata": {},
   "outputs": [
    {
     "data": {
      "text/html": [
       "<div>\n",
       "<style scoped>\n",
       "    .dataframe tbody tr th:only-of-type {\n",
       "        vertical-align: middle;\n",
       "    }\n",
       "\n",
       "    .dataframe tbody tr th {\n",
       "        vertical-align: top;\n",
       "    }\n",
       "\n",
       "    .dataframe thead th {\n",
       "        text-align: right;\n",
       "    }\n",
       "</style>\n",
       "<table border=\"1\" class=\"dataframe\">\n",
       "  <thead>\n",
       "    <tr style=\"text-align: right;\">\n",
       "      <th></th>\n",
       "      <th>TSLA.O</th>\n",
       "    </tr>\n",
       "    <tr>\n",
       "      <th>Date</th>\n",
       "      <th></th>\n",
       "    </tr>\n",
       "  </thead>\n",
       "  <tbody>\n",
       "    <tr>\n",
       "      <th>2020-03-23</th>\n",
       "      <td>1.581176</td>\n",
       "    </tr>\n",
       "    <tr>\n",
       "      <th>2020-03-24</th>\n",
       "      <td>16.281747</td>\n",
       "    </tr>\n",
       "    <tr>\n",
       "      <th>2020-03-25</th>\n",
       "      <td>6.782178</td>\n",
       "    </tr>\n",
       "    <tr>\n",
       "      <th>2020-03-26</th>\n",
       "      <td>-2.056560</td>\n",
       "    </tr>\n",
       "    <tr>\n",
       "      <th>2020-03-27</th>\n",
       "      <td>-2.612845</td>\n",
       "    </tr>\n",
       "  </tbody>\n",
       "</table>\n",
       "</div>"
      ],
      "text/plain": [
       "               TSLA.O\n",
       "Date                 \n",
       "2020-03-23   1.581176\n",
       "2020-03-24  16.281747\n",
       "2020-03-25   6.782178\n",
       "2020-03-26  -2.056560\n",
       "2020-03-27  -2.612845"
      ]
     },
     "execution_count": 52,
     "metadata": {},
     "output_type": "execute_result"
    }
   ],
   "source": [
    "rd.open_session()\n",
    "data = rd.get_data(\n",
    "    universe = ['TSLA.O'],\n",
    "    fields = ['TR.TotalReturn1D',\n",
    "             'TR.CLOSEPRICE.DATE'],\n",
    "    parameters = {\n",
    "        'SDate': '2020-03-23',\n",
    "        'EDate': '2023-11-16',\n",
    "        'Frq': 'D',\n",
    "        'RH': 'date'\n",
    "    }\n",
    ")\n",
    "data.set_index('Date', inplace = True)\n",
    "data.drop(columns = ['Instrument'],inplace = True)\n",
    "data.columns = ['TSLA.O']\n",
    "data['TSLA.O'] = data['TSLA.O'].astype('float64')\n",
    "data.head()"
   ]
  },
  {
   "cell_type": "code",
   "execution_count": 53,
   "id": "d995903e",
   "metadata": {},
   "outputs": [],
   "source": [
    "for symbol in company_list:\n",
    "    rd.open_session()\n",
    "    com_data = rd.get_data(\n",
    "        universe = [symbol],\n",
    "        fields = ['TR.TotalReturn1D',\n",
    "                 'TR.CLOSEPRICE.DATE'],\n",
    "        parameters = {\n",
    "            'SDate': '2020-03-23',\n",
    "            'EDate': '2023-11-16',\n",
    "            'Frq': 'D',\n",
    "            'RH': 'date'\n",
    "        }\n",
    "    )\n",
    "    com_data.set_index('Date', inplace = True)\n",
    "    com_data.drop(columns = ['Instrument'],inplace = True)\n",
    "    com_data.columns = [symbol]\n",
    "    com_data[symbol] = com_data[symbol].astype('float64')\n",
    "    data = pd.merge(data, com_data, left_index = True, right_index = True, how = 'left')"
   ]
  },
  {
   "cell_type": "code",
   "execution_count": 54,
   "id": "cb7d839e",
   "metadata": {},
   "outputs": [
    {
     "data": {
      "text/html": [
       "<div>\n",
       "<style scoped>\n",
       "    .dataframe tbody tr th:only-of-type {\n",
       "        vertical-align: middle;\n",
       "    }\n",
       "\n",
       "    .dataframe tbody tr th {\n",
       "        vertical-align: top;\n",
       "    }\n",
       "\n",
       "    .dataframe thead th {\n",
       "        text-align: right;\n",
       "    }\n",
       "</style>\n",
       "<table border=\"1\" class=\"dataframe\">\n",
       "  <thead>\n",
       "    <tr style=\"text-align: right;\">\n",
       "      <th></th>\n",
       "      <th>TSLA.O</th>\n",
       "      <th>GM</th>\n",
       "      <th>TM</th>\n",
       "      <th>F</th>\n",
       "      <th>RIVN.O</th>\n",
       "      <th>HMC</th>\n",
       "      <th>NVDA.O</th>\n",
       "      <th>AMD.O</th>\n",
       "      <th>TSM</th>\n",
       "      <th>AAPL.O</th>\n",
       "      <th>NFLX.O</th>\n",
       "      <th>SPY</th>\n",
       "    </tr>\n",
       "    <tr>\n",
       "      <th>Date</th>\n",
       "      <th></th>\n",
       "      <th></th>\n",
       "      <th></th>\n",
       "      <th></th>\n",
       "      <th></th>\n",
       "      <th></th>\n",
       "      <th></th>\n",
       "      <th></th>\n",
       "      <th></th>\n",
       "      <th></th>\n",
       "      <th></th>\n",
       "      <th></th>\n",
       "    </tr>\n",
       "  </thead>\n",
       "  <tbody>\n",
       "    <tr>\n",
       "      <th>2020-03-23</th>\n",
       "      <td>1.581176</td>\n",
       "      <td>-2.976847</td>\n",
       "      <td>-4.602439</td>\n",
       "      <td>-7.390300</td>\n",
       "      <td>NaN</td>\n",
       "      <td>-4.243009</td>\n",
       "      <td>3.373026</td>\n",
       "      <td>5.124968</td>\n",
       "      <td>1.639344</td>\n",
       "      <td>-2.124411</td>\n",
       "      <td>8.244449</td>\n",
       "      <td>-2.556818</td>\n",
       "    </tr>\n",
       "    <tr>\n",
       "      <th>2020-03-24</th>\n",
       "      <td>16.281747</td>\n",
       "      <td>19.943182</td>\n",
       "      <td>4.725473</td>\n",
       "      <td>23.441397</td>\n",
       "      <td>NaN</td>\n",
       "      <td>9.466264</td>\n",
       "      <td>17.156425</td>\n",
       "      <td>10.999039</td>\n",
       "      <td>7.976138</td>\n",
       "      <td>10.032536</td>\n",
       "      <td>-0.818830</td>\n",
       "      <td>9.060327</td>\n",
       "    </tr>\n",
       "    <tr>\n",
       "      <th>2020-03-25</th>\n",
       "      <td>6.782178</td>\n",
       "      <td>1.800095</td>\n",
       "      <td>4.245810</td>\n",
       "      <td>8.888889</td>\n",
       "      <td>NaN</td>\n",
       "      <td>4.783809</td>\n",
       "      <td>-1.428686</td>\n",
       "      <td>-3.440069</td>\n",
       "      <td>0.266012</td>\n",
       "      <td>-0.550875</td>\n",
       "      <td>-4.178328</td>\n",
       "      <td>1.497018</td>\n",
       "    </tr>\n",
       "    <tr>\n",
       "      <th>2020-03-26</th>\n",
       "      <td>-2.056560</td>\n",
       "      <td>4.979060</td>\n",
       "      <td>4.163575</td>\n",
       "      <td>-2.597403</td>\n",
       "      <td>NaN</td>\n",
       "      <td>3.950834</td>\n",
       "      <td>4.730885</td>\n",
       "      <td>6.430652</td>\n",
       "      <td>1.775510</td>\n",
       "      <td>5.262300</td>\n",
       "      <td>6.016531</td>\n",
       "      <td>5.838972</td>\n",
       "    </tr>\n",
       "    <tr>\n",
       "      <th>2020-03-27</th>\n",
       "      <td>-2.612845</td>\n",
       "      <td>-5.230496</td>\n",
       "      <td>0.712363</td>\n",
       "      <td>-1.142857</td>\n",
       "      <td>NaN</td>\n",
       "      <td>-2.491554</td>\n",
       "      <td>-1.753227</td>\n",
       "      <td>-1.936842</td>\n",
       "      <td>-5.935432</td>\n",
       "      <td>-4.140226</td>\n",
       "      <td>-1.617124</td>\n",
       "      <td>-2.978560</td>\n",
       "    </tr>\n",
       "  </tbody>\n",
       "</table>\n",
       "</div>"
      ],
      "text/plain": [
       "               TSLA.O         GM        TM          F  RIVN.O       HMC  \\\n",
       "Date                                                                      \n",
       "2020-03-23   1.581176  -2.976847 -4.602439  -7.390300     NaN -4.243009   \n",
       "2020-03-24  16.281747  19.943182  4.725473  23.441397     NaN  9.466264   \n",
       "2020-03-25   6.782178   1.800095  4.245810   8.888889     NaN  4.783809   \n",
       "2020-03-26  -2.056560   4.979060  4.163575  -2.597403     NaN  3.950834   \n",
       "2020-03-27  -2.612845  -5.230496  0.712363  -1.142857     NaN -2.491554   \n",
       "\n",
       "               NVDA.O      AMD.O       TSM     AAPL.O    NFLX.O       SPY  \n",
       "Date                                                                       \n",
       "2020-03-23   3.373026   5.124968  1.639344  -2.124411  8.244449 -2.556818  \n",
       "2020-03-24  17.156425  10.999039  7.976138  10.032536 -0.818830  9.060327  \n",
       "2020-03-25  -1.428686  -3.440069  0.266012  -0.550875 -4.178328  1.497018  \n",
       "2020-03-26   4.730885   6.430652  1.775510   5.262300  6.016531  5.838972  \n",
       "2020-03-27  -1.753227  -1.936842 -5.935432  -4.140226 -1.617124 -2.978560  "
      ]
     },
     "execution_count": 54,
     "metadata": {},
     "output_type": "execute_result"
    }
   ],
   "source": [
    "data.head()"
   ]
  },
  {
   "cell_type": "code",
   "execution_count": 58,
   "id": "0da0ad93",
   "metadata": {
    "scrolled": true
   },
   "outputs": [
    {
     "name": "stdout",
     "output_type": "stream",
     "text": [
      "<class 'pandas.core.frame.DataFrame'>\n",
      "DatetimeIndex: 922 entries, 2020-03-23 to 2023-11-16\n",
      "Data columns (total 12 columns):\n",
      " #   Column  Non-Null Count  Dtype  \n",
      "---  ------  --------------  -----  \n",
      " 0   TSLA.O  922 non-null    float64\n",
      " 1   GM      922 non-null    float64\n",
      " 2   TM      922 non-null    float64\n",
      " 3   F       922 non-null    float64\n",
      " 4   RIVN.O  507 non-null    float64\n",
      " 5   HMC     922 non-null    float64\n",
      " 6   NVDA.O  922 non-null    float64\n",
      " 7   AMD.O   922 non-null    float64\n",
      " 8   TSM     922 non-null    float64\n",
      " 9   AAPL.O  922 non-null    float64\n",
      " 10  NFLX.O  922 non-null    float64\n",
      " 11  SPY     922 non-null    float64\n",
      "dtypes: float64(12)\n",
      "memory usage: 125.9 KB\n"
     ]
    }
   ],
   "source": [
    "data.info()"
   ]
  },
  {
   "cell_type": "code",
   "execution_count": 56,
   "id": "8c3d1525-9625-4105-b6de-0188058ba1f6",
   "metadata": {},
   "outputs": [],
   "source": [
    "data.to_csv('companies_data.csv')"
   ]
  },
  {
   "cell_type": "code",
   "execution_count": 61,
   "id": "1ce7dae9-716e-4e3e-82da-90b7e9fced5d",
   "metadata": {},
   "outputs": [
    {
     "data": {
      "image/png": "[encoded data removed]",
      "text/plain": [
       "<Figure size 1000x800 with 2 Axes>"
      ]
     },
     "metadata": {},
     "output_type": "display_data"
    }
   ],
   "source": [
    "df = pd.read_csv('companies_data.csv',index_col = 'Date')\n",
    "\n",
    "correlation_matrix = df.corr()\n",
    "\n",
    "# Plot heatmap\n",
    "plt.figure(figsize=(10, 8))  # Adjust the figure size if needed\n",
    "sns.heatmap(correlation_matrix, annot=True, cmap='coolwarm', fmt=\".2f\", linewidths=.5)\n",
    "plt.title('Correlation Heatmap')\n",
    "plt.show()"
   ]
  },
  {
   "cell_type": "code",
   "execution_count": null,
   "id": "b375b53e-011e-4bff-911b-5d77e0bd7beb",
   "metadata": {},
   "outputs": [],
   "source": []
  }
 ],
 "metadata": {
  "kernelspec": {
   "display_name": "Python 3 (ipykernel)",
   "language": "python",
   "name": "python3"
  },
  "language_info": {
   "codemirror_mode": {
    "name": "ipython",
    "version": 3
   },
   "file_extension": ".py",
   "mimetype": "text/x-python",
   "name": "python",
   "nbconvert_exporter": "python",
   "pygments_lexer": "ipython3",
   "version": "3.11.7"
  }
 },
 "nbformat": 4,
 "nbformat_minor": 5
}
